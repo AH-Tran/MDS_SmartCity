{
 "cells": [
  {
   "cell_type": "code",
   "execution_count": 1,
   "metadata": {},
   "outputs": [],
   "source": [
    "import pandas as pd"
   ]
  },
  {
   "cell_type": "code",
   "execution_count": 3,
   "metadata": {},
   "outputs": [],
   "source": [
    "# Read in complete dataset from https://data.geo.admin.ch/ch.astra.unfaelle-personenschaeden_alle/\n",
    "\n",
    "df = pd.read_csv(\"../data/RoadTrafficAccidentLocations.csv\")"
   ]
  },
  {
   "cell_type": "code",
   "execution_count": 4,
   "metadata": {},
   "outputs": [
    {
     "data": {
      "text/plain": [
       "Index(['AccidentUID', 'AccidentType', 'AccidentType_de', 'AccidentType_fr',\n",
       "       'AccidentType_it', 'AccidentType_en', 'AccidentSeverityCategory',\n",
       "       'AccidentSeverityCategory_de', 'AccidentSeverityCategory_fr',\n",
       "       'AccidentSeverityCategory_it', 'AccidentSeverityCategory_en',\n",
       "       'AccidentInvolvingPedestrian', 'AccidentInvolvingBicycle',\n",
       "       'AccidentInvolvingMotorcycle', 'RoadType', 'RoadType_de', 'RoadType_fr',\n",
       "       'RoadType_it', 'RoadType_en', 'AccidentLocation_CHLV95_E',\n",
       "       'AccidentLocation_CHLV95_N', 'CantonCode', 'MunicipalityCode',\n",
       "       'AccidentYear', 'AccidentMonth', 'AccidentMonth_de', 'AccidentMonth_fr',\n",
       "       'AccidentMonth_it', 'AccidentMonth_en', 'AccidentWeekDay',\n",
       "       'AccidentWeekDay_de', 'AccidentWeekDay_fr', 'AccidentWeekDay_it',\n",
       "       'AccidentWeekDay_en', 'AccidentHour', 'AccidentHour_text'],\n",
       "      dtype='object')"
      ]
     },
     "execution_count": 4,
     "metadata": {},
     "output_type": "execute_result"
    }
   ],
   "source": [
    "# Identify unnecessary data columns\n",
    "\n",
    "df.columns"
   ]
  },
  {
   "cell_type": "code",
   "execution_count": 5,
   "metadata": {},
   "outputs": [],
   "source": [
    "# Remove unncessary data columns from DataFrame\n",
    "\n",
    "df = df.drop(columns=['AccidentID', 'AccidentType_de', 'AccidentType_fr',\n",
    "       'AccidentType_it', 'AccidentSeverityCategory_de', 'AccidentSeverityCategory_fr',\n",
    "       'AccidentSeverityCategory_it', 'RoadType_de', 'RoadType_fr',\n",
    "       'RoadType_it','AccidentMonth_de', 'AccidentMonth_fr',\n",
    "       'AccidentMonth_it', 'AccidentWeekDay_de', 'AccidentWeekDay_fr',\n",
    "        'AccidentWeekDay_it','AccidentLocation_CHLV95_E', 'AccidentLocation_CHLV95_N',\n",
    "        'AccidentMonth_en', 'AccidentHour_text'])"
   ]
  },
  {
   "cell_type": "code",
   "execution_count": 7,
   "metadata": {},
   "outputs": [],
   "source": [
    "# Adding the index column as additional AccidentID column\n",
    "\n",
    "df[\"AccidentID\"] = df.index"
   ]
  },
  {
   "cell_type": "code",
   "execution_count": null,
   "metadata": {},
   "outputs": [],
   "source": [
    "# Save the reduced dataframe for the import into the Cassandra database\n",
    "\n",
    "df.to_csv(\"../data/RoadTrafficAccidentLocations_complete_clean.csv\")"
   ]
  }
 ],
 "metadata": {
  "kernelspec": {
   "display_name": "geopandas_env",
   "language": "python",
   "name": "geopandas_env"
  },
  "language_info": {
   "codemirror_mode": {
    "name": "ipython",
    "version": 3
   },
   "file_extension": ".py",
   "mimetype": "text/x-python",
   "name": "python",
   "nbconvert_exporter": "python",
   "pygments_lexer": "ipython3",
   "version": "3.9.16"
  },
  "vscode": {
   "interpreter": {
    "hash": "ad2bdc8ecc057115af97d19610ffacc2b4e99fae6737bb82f5d7fb13d2f2c186"
   }
  }
 },
 "nbformat": 4,
 "nbformat_minor": 2
}
